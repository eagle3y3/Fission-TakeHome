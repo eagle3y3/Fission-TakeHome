{
 "cells": [
  {
   "cell_type": "markdown",
   "metadata": {},
   "source": [
    "# Create Database And Tables\n",
    "\n",
    "Create database and split csv into tables."
   ]
  },
  {
   "cell_type": "code",
   "execution_count": 75,
   "metadata": {},
   "outputs": [],
   "source": [
    "#Import Packages and Modules\n",
    "import pandas as pd\n",
    "from sqlalchemy import create_engine"
   ]
  },
  {
   "cell_type": "code",
   "execution_count": 76,
   "metadata": {},
   "outputs": [],
   "source": [
    "df = pd.read_csv('RealEstate_California.csv')"
   ]
  },
  {
   "cell_type": "code",
   "execution_count": 77,
   "metadata": {},
   "outputs": [
    {
     "name": "stdout",
     "output_type": "stream",
     "text": [
      "   Unnamed: 0                id  stateId  countyId  cityId country  \\\n",
      "0           0  95717-2087851113        9        77   24895     USA   \n",
      "1           1    94564-18496265        9       189   36958     USA   \n",
      "2           2    94564-18484475        9       190   36958     USA   \n",
      "3           3    94564-18494835        9       191   36958     USA   \n",
      "4           4  94564-2069722747        9       192   36958     USA   \n",
      "\n",
      "         date  is_bankOwned  is_forAuction            event  ...  parking  \\\n",
      "0  2021-01-13             0              0  Listed for sale  ...        0   \n",
      "1  2021-07-12             0              0  Listed for sale  ...        1   \n",
      "2  2021-07-08             0              0  Listed for sale  ...        1   \n",
      "3  2021-07-07             0              0  Listed for sale  ...        1   \n",
      "4  2021-07-07             0              0  Listed for sale  ...        0   \n",
      "\n",
      "   garageSpaces  hasGarage     levels pool  spa isNewConstruction  \\\n",
      "0           0.0          0          0    0    0                 0   \n",
      "1           2.0          1  One Story    0    0                 0   \n",
      "2           2.0          1  One Story    0    0                 0   \n",
      "3           1.0          1  Two Story    0    1                 0   \n",
      "4           0.0          0          0    0    0                 0   \n",
      "\n",
      "   hasPetsAllowed       homeType               county  \n",
      "0               0            LOT        Placer County  \n",
      "1               0  SINGLE_FAMILY  Contra Costa County  \n",
      "2               0  SINGLE_FAMILY  Contra Costa County  \n",
      "3               0  SINGLE_FAMILY  Contra Costa County  \n",
      "4               0            LOT  Contra Costa County  \n",
      "\n",
      "[5 rows x 39 columns]\n"
     ]
    }
   ],
   "source": [
    "engine = create_engine(\"sqlite:///Fission.db\", echo=False)\n",
    "df.rename(columns={'livingArea': 'livingSqFt', 'datePostedString': 'date'}, inplace=True)\n",
    "\n",
    "print(df.head(5))"
   ]
  },
  {
   "cell_type": "code",
   "execution_count": 78,
   "metadata": {},
   "outputs": [
    {
     "name": "stdout",
     "output_type": "stream",
     "text": [
      "Total Null Values:  596\n"
     ]
    }
   ],
   "source": [
    "sum_of_nulls = df.isnull().sum().sum()\n",
    "print(\"Total Null Values: \", sum_of_nulls)"
   ]
  },
  {
   "cell_type": "code",
   "execution_count": 79,
   "metadata": {},
   "outputs": [
    {
     "name": "stdout",
     "output_type": "stream",
     "text": [
      "Total Null Values:  0\n"
     ]
    }
   ],
   "source": [
    "df.dropna(axis=0, how='any', inplace=True)\n",
    "sum_of_nulls = df.isnull().sum().sum()\n",
    "print(\"Total Null Values: \", sum_of_nulls)\n"
   ]
  },
  {
   "cell_type": "code",
   "execution_count": 80,
   "metadata": {},
   "outputs": [],
   "source": [
    "df['city'] = df.city.astype(str).str.upper()\n",
    "df['county'] = df.county.astype(str).str.upper()\n",
    "df['zipcode'] = df.zipcode.astype(int)"
   ]
  },
  {
   "cell_type": "code",
   "execution_count": 81,
   "metadata": {},
   "outputs": [
    {
     "name": "stdout",
     "output_type": "stream",
     "text": [
      "<class 'pandas.core.frame.DataFrame'>\n",
      "Int64Index: 30753 entries, 0 to 35388\n",
      "Data columns (total 39 columns):\n",
      " #   Column              Non-Null Count  Dtype  \n",
      "---  ------              --------------  -----  \n",
      " 0   Unnamed: 0          30753 non-null  int64  \n",
      " 1   id                  30753 non-null  object \n",
      " 2   stateId             30753 non-null  int64  \n",
      " 3   countyId            30753 non-null  int64  \n",
      " 4   cityId              30753 non-null  int64  \n",
      " 5   country             30753 non-null  object \n",
      " 6   date                30753 non-null  object \n",
      " 7   is_bankOwned        30753 non-null  int64  \n",
      " 8   is_forAuction       30753 non-null  int64  \n",
      " 9   event               30753 non-null  object \n",
      " 10  time                30753 non-null  float64\n",
      " 11  price               30753 non-null  float64\n",
      " 12  pricePerSquareFoot  30753 non-null  float64\n",
      " 13  city                30753 non-null  object \n",
      " 14  state               30753 non-null  object \n",
      " 15  yearBuilt           30753 non-null  int64  \n",
      " 16  streetAddress       30753 non-null  object \n",
      " 17  zipcode             30753 non-null  int32  \n",
      " 18  longitude           30753 non-null  float64\n",
      " 19  latitude            30753 non-null  float64\n",
      " 20  hasBadGeocode       30753 non-null  int64  \n",
      " 21  description         30753 non-null  object \n",
      " 22  currency            30753 non-null  object \n",
      " 23  livingSqFt          30753 non-null  float64\n",
      " 24  livingAreaValue     30753 non-null  float64\n",
      " 25  lotAreaUnits        30753 non-null  object \n",
      " 26  bathrooms           30753 non-null  float64\n",
      " 27  bedrooms            30753 non-null  float64\n",
      " 28  buildingArea        30753 non-null  float64\n",
      " 29  parking             30753 non-null  int64  \n",
      " 30  garageSpaces        30753 non-null  float64\n",
      " 31  hasGarage           30753 non-null  int64  \n",
      " 32  levels              30753 non-null  object \n",
      " 33  pool                30753 non-null  int64  \n",
      " 34  spa                 30753 non-null  int64  \n",
      " 35  isNewConstruction   30753 non-null  int64  \n",
      " 36  hasPetsAllowed      30753 non-null  int64  \n",
      " 37  homeType            30753 non-null  object \n",
      " 38  county              30753 non-null  object \n",
      "dtypes: float64(11), int32(1), int64(14), object(13)\n",
      "memory usage: 9.3+ MB\n",
      "None\n"
     ]
    }
   ],
   "source": [
    "df.drop_duplicates(subset=['id'], inplace=True, keep=\"first\")\n",
    "clean_df = df.drop_duplicates(subset=['id'], inplace=True, keep=\"first\")\n",
    "\n",
    "print(df.info())"
   ]
  },
  {
   "cell_type": "code",
   "execution_count": 82,
   "metadata": {},
   "outputs": [
    {
     "data": {
      "text/plain": [
       "6"
      ]
     },
     "execution_count": 82,
     "metadata": {},
     "output_type": "execute_result"
    }
   ],
   "source": [
    "\n",
    "hometype_list = df['homeType'].unique().tolist()\n",
    "hometype_list = pd.DataFrame(hometype_list, columns=['homeType'])\n",
    "hometype_list.to_sql('home_type', con=engine, if_exists='replace', index_label=\"hometype_index\")\n"
   ]
  },
  {
   "cell_type": "code",
   "execution_count": 83,
   "metadata": {},
   "outputs": [
    {
     "data": {
      "text/plain": [
       "1184"
      ]
     },
     "execution_count": 83,
     "metadata": {},
     "output_type": "execute_result"
    }
   ],
   "source": [
    "city_list = df['city'].unique().tolist()\n",
    "city_list = pd.DataFrame(city_list, columns=['city'])\n",
    "city_list.to_sql('city', con=engine, if_exists='replace', index_label=\"city_index\")"
   ]
  },
  {
   "cell_type": "code",
   "execution_count": 84,
   "metadata": {},
   "outputs": [
    {
     "data": {
      "text/plain": [
       "24545"
      ]
     },
     "execution_count": 84,
     "metadata": {},
     "output_type": "execute_result"
    }
   ],
   "source": [
    "price_list = df.drop_duplicates(subset=['price', 'pricePerSquareFoot'], inplace=True)\n",
    "price_list = df[['price', 'pricePerSquareFoot']]\n",
    "price_list.to_sql('price', con=engine, if_exists='replace', index_label=\"price_index\")\n"
   ]
  },
  {
   "cell_type": "code",
   "execution_count": 85,
   "metadata": {},
   "outputs": [
    {
     "data": {
      "text/plain": [
       "1540"
      ]
     },
     "execution_count": 85,
     "metadata": {},
     "output_type": "execute_result"
    }
   ],
   "source": [
    "zipcode_list = df['zipcode'].unique().tolist()\n",
    "zipcode_list = pd.DataFrame(zipcode_list, columns=['zipcode'])\n",
    "# zipcode_list.info()\n",
    "zipcode_list.to_sql('zipcode', con=engine, if_exists='replace', index_label=\"zip_index\")"
   ]
  },
  {
   "cell_type": "code",
   "execution_count": 101,
   "metadata": {},
   "outputs": [
    {
     "data": {
      "text/plain": [
       "58"
      ]
     },
     "execution_count": 101,
     "metadata": {},
     "output_type": "execute_result"
    }
   ],
   "source": [
    "county_list = df.drop_duplicates(subset=['county'], keep=\"first\")\n",
    "county_list = pd.DataFrame(county_list, columns=['county'])\n",
    "county_list.to_sql('county', con=engine, if_exists='replace', index_label=\"county_index\")"
   ]
  },
  {
   "cell_type": "code",
   "execution_count": 102,
   "metadata": {},
   "outputs": [
    {
     "name": "stdout",
     "output_type": "stream",
     "text": [
      "<class 'pandas.core.frame.DataFrame'>\n",
      "Int64Index: 24545 entries, 0 to 35388\n",
      "Data columns (total 39 columns):\n",
      " #   Column              Non-Null Count  Dtype  \n",
      "---  ------              --------------  -----  \n",
      " 0   Unnamed: 0          24545 non-null  int64  \n",
      " 1   id                  24545 non-null  object \n",
      " 2   stateId             24545 non-null  int64  \n",
      " 3   countyId            24545 non-null  int64  \n",
      " 4   cityId              24545 non-null  int64  \n",
      " 5   country             24545 non-null  object \n",
      " 6   date                24545 non-null  object \n",
      " 7   is_bankOwned        24545 non-null  int64  \n",
      " 8   is_forAuction       24545 non-null  int64  \n",
      " 9   event               24545 non-null  object \n",
      " 10  time                24545 non-null  float64\n",
      " 11  price               24545 non-null  float64\n",
      " 12  pricePerSquareFoot  24545 non-null  float64\n",
      " 13  city                24545 non-null  object \n",
      " 14  state               24545 non-null  object \n",
      " 15  yearBuilt           24545 non-null  int64  \n",
      " 16  streetAddress       24545 non-null  object \n",
      " 17  zipcode             24545 non-null  int32  \n",
      " 18  longitude           24545 non-null  float64\n",
      " 19  latitude            24545 non-null  float64\n",
      " 20  hasBadGeocode       24545 non-null  int64  \n",
      " 21  description         24545 non-null  object \n",
      " 22  currency            24545 non-null  object \n",
      " 23  livingSqFt          24545 non-null  float64\n",
      " 24  livingAreaValue     24545 non-null  float64\n",
      " 25  lotAreaUnits        24545 non-null  object \n",
      " 26  bathrooms           24545 non-null  float64\n",
      " 27  bedrooms            24545 non-null  float64\n",
      " 28  buildingArea        24545 non-null  float64\n",
      " 29  parking             24545 non-null  int64  \n",
      " 30  garageSpaces        24545 non-null  float64\n",
      " 31  hasGarage           24545 non-null  int64  \n",
      " 32  levels              24545 non-null  object \n",
      " 33  pool                24545 non-null  int64  \n",
      " 34  spa                 24545 non-null  int64  \n",
      " 35  isNewConstruction   24545 non-null  int64  \n",
      " 36  hasPetsAllowed      24545 non-null  int64  \n",
      " 37  homeType            24545 non-null  object \n",
      " 38  county              24545 non-null  object \n",
      "dtypes: float64(11), int32(1), int64(14), object(13)\n",
      "memory usage: 7.4+ MB\n"
     ]
    }
   ],
   "source": [
    "zipcodes = pd.read_sql_table('zipcode', con = engine)\n",
    "cities = pd.read_sql_table('city', con = engine)\n",
    "home_types = pd.read_sql_table('home_type', con = engine)\n",
    "counties = pd.read_sql_table('county', con = engine)\n",
    "prices = pd.read_sql_table('price', con=engine)\n",
    "\n",
    "df.info()\n"
   ]
  },
  {
   "cell_type": "code",
   "execution_count": 128,
   "metadata": {},
   "outputs": [
    {
     "name": "stdout",
     "output_type": "stream",
     "text": [
      "<class 'pandas.core.frame.DataFrame'>\n",
      "RangeIndex: 58 entries, 0 to 57\n",
      "Data columns (total 2 columns):\n",
      " #   Column        Non-Null Count  Dtype \n",
      "---  ------        --------------  ----- \n",
      " 0   county_index  58 non-null     int64 \n",
      " 1   county        58 non-null     object\n",
      "dtypes: int64(1), object(1)\n",
      "memory usage: 1.0+ KB\n",
      "<class 'pandas.core.frame.DataFrame'>\n",
      "Int64Index: 24545 entries, 0 to 24544\n",
      "Data columns (total 43 columns):\n",
      " #   Column              Non-Null Count  Dtype  \n",
      "---  ------              --------------  -----  \n",
      " 0   Unnamed: 0          24545 non-null  int64  \n",
      " 1   id                  24545 non-null  object \n",
      " 2   stateId             24545 non-null  int64  \n",
      " 3   countyId            24545 non-null  int64  \n",
      " 4   cityId              24545 non-null  int64  \n",
      " 5   country             24545 non-null  object \n",
      " 6   date                24545 non-null  object \n",
      " 7   is_bankOwned        24545 non-null  int64  \n",
      " 8   is_forAuction       24545 non-null  int64  \n",
      " 9   event               24545 non-null  object \n",
      " 10  time                24545 non-null  float64\n",
      " 11  price               24545 non-null  float64\n",
      " 12  pricePerSquareFoot  24545 non-null  float64\n",
      " 13  city                24545 non-null  object \n",
      " 14  state               24545 non-null  object \n",
      " 15  yearBuilt           24545 non-null  int64  \n",
      " 16  streetAddress       24545 non-null  object \n",
      " 17  zipcode             24545 non-null  int32  \n",
      " 18  longitude           24545 non-null  float64\n",
      " 19  latitude            24545 non-null  float64\n",
      " 20  hasBadGeocode       24545 non-null  int64  \n",
      " 21  description         24545 non-null  object \n",
      " 22  currency            24545 non-null  object \n",
      " 23  livingSqFt          24545 non-null  float64\n",
      " 24  livingAreaValue     24545 non-null  float64\n",
      " 25  lotAreaUnits        24545 non-null  object \n",
      " 26  bathrooms           24545 non-null  float64\n",
      " 27  bedrooms            24545 non-null  float64\n",
      " 28  buildingArea        24545 non-null  float64\n",
      " 29  parking             24545 non-null  int64  \n",
      " 30  garageSpaces        24545 non-null  float64\n",
      " 31  hasGarage           24545 non-null  int64  \n",
      " 32  levels              24545 non-null  object \n",
      " 33  pool                24545 non-null  int64  \n",
      " 34  spa                 24545 non-null  int64  \n",
      " 35  isNewConstruction   24545 non-null  int64  \n",
      " 36  hasPetsAllowed      24545 non-null  int64  \n",
      " 37  homeType            24545 non-null  object \n",
      " 38  county              24545 non-null  object \n",
      " 39  zip_index           24545 non-null  int64  \n",
      " 40  city_index          24545 non-null  int64  \n",
      " 41  hometype_index      24545 non-null  int64  \n",
      " 42  county_index        24545 non-null  int64  \n",
      "dtypes: float64(11), int32(1), int64(18), object(13)\n",
      "memory usage: 8.1+ MB\n"
     ]
    },
    {
     "data": {
      "text/plain": [
       "1800"
      ]
     },
     "execution_count": 128,
     "metadata": {},
     "output_type": "execute_result"
    }
   ],
   "source": [
    "geo = df.merge(zipcodes, on=['zipcode'])\\\n",
    "    .merge(cities, how='left', on=['city'])\\\n",
    "    .merge(home_types, how='left', on=['homeType'])\\\n",
    "    .merge(counties, how='right', on=['county'])\n",
    "\n",
    "counties.info()\n",
    "geo.info()\n",
    "geo_list = geo[['zip_index', 'city_index', 'county_index']].drop_duplicates()\n",
    "# geo_list.rename(columns={'county_index': 'countyId'}, inplace=True)\n",
    "\n",
    "geo_list.to_sql('geography', con=engine, if_exists='replace', index_label=\"geo_index\")\n",
    "\n",
    "# geo_list.info()\n"
   ]
  },
  {
   "cell_type": "code",
   "execution_count": 187,
   "metadata": {},
   "outputs": [
    {
     "name": "stdout",
     "output_type": "stream",
     "text": [
      "<class 'pandas.core.frame.DataFrame'>\n",
      "Int64Index: 24545 entries, 0 to 24544\n",
      "Data columns (total 24 columns):\n",
      " #   Column          Non-Null Count  Dtype  \n",
      "---  ------          --------------  -----  \n",
      " 0   geo_index       24545 non-null  int64  \n",
      " 1   id              24545 non-null  object \n",
      " 2   date            24545 non-null  object \n",
      " 3   is_bankOwned    24545 non-null  int64  \n",
      " 4   is_forAuction   24545 non-null  int64  \n",
      " 5   event           24545 non-null  object \n",
      " 6   yearBuilt       24545 non-null  int64  \n",
      " 7   streetAddress   24545 non-null  object \n",
      " 8   hasBadGeocode   24545 non-null  int64  \n",
      " 9   description     24545 non-null  object \n",
      " 10  livingSqFt      24545 non-null  float64\n",
      " 11  lotAreaUnits    24545 non-null  object \n",
      " 12  bathrooms       24545 non-null  float64\n",
      " 13  bedrooms        24545 non-null  float64\n",
      " 14  buildingArea    24545 non-null  float64\n",
      " 15  parking         24545 non-null  int64  \n",
      " 16  garageSpaces    24545 non-null  float64\n",
      " 17  hasGarage       24545 non-null  int64  \n",
      " 18  levels          24545 non-null  object \n",
      " 19  pool            24545 non-null  int64  \n",
      " 20  spa             24545 non-null  int64  \n",
      " 21  hasPetsAllowed  24545 non-null  int64  \n",
      " 22  price_index     24545 non-null  int64  \n",
      " 23  hometype_index  24545 non-null  int64  \n",
      "dtypes: float64(5), int64(12), object(7)\n",
      "memory usage: 4.7+ MB\n"
     ]
    },
    {
     "data": {
      "text/plain": [
       "24545"
      ]
     },
     "execution_count": 187,
     "metadata": {},
     "output_type": "execute_result"
    }
   ],
   "source": [
    "\n",
    "geo_ids = pd.read_sql_table('geography', con = engine)\n",
    "# df.info()\n",
    "\n",
    "geo_ids = geo_ids.merge(counties, on=['county_index'])\\\n",
    "        .merge(zipcodes, on=['zip_index'])\\\n",
    "        .merge(cities, on=['city_index'])\\\n",
    "        .merge(df, on=['county', 'city', 'zipcode'])\\\n",
    "        .merge(prices, how='inner', on=['price', 'pricePerSquareFoot'])\\\n",
    "        .merge(home_types, on=['homeType'])\n",
    "\n",
    "\n",
    "# geo_ids = geo_ids.geo_index.astype(int)\n",
    "# geo_ids.info()\n",
    "geo_ids.dropna(subset=['geo_index'])\n",
    "property_df = geo_ids.drop(['stateId', 'cityId', 'country', 'time', \n",
    "        'time', 'longitude', 'latitude', 'currency', \n",
    "        'livingAreaValue', 'Unnamed: 0', 'isNewConstruction',\n",
    "        'homeType', 'zipcode', 'county', 'city', 'state',\n",
    "        'price', 'pricePerSquareFoot', \n",
    "        'city_index', 'zip_index', 'county_index', 'countyId'\n",
    "        ], axis=1)\n",
    "property_df.info()\n",
    "\n",
    "property_df.to_sql('property_info', con=engine, if_exists='replace', index_label=\"property_index\", chunksize=500)\n"
   ]
  },
  {
   "cell_type": "code",
   "execution_count": 190,
   "metadata": {},
   "outputs": [],
   "source": [
    "assert len(property_df['id'].unique())==property_df.shape[0]\n",
    "assert property_df.groupby(['date','id']).size().max()==1"
   ]
  }
 ],
 "metadata": {
  "interpreter": {
   "hash": "90db6f764d78524a59d517ad2c585a5d0554f8a6c812109f0f2cc2d2cc4ed87b"
  },
  "kernelspec": {
   "display_name": "Python 3.8.8 ('base')",
   "language": "python",
   "name": "python3"
  },
  "language_info": {
   "codemirror_mode": {
    "name": "ipython",
    "version": 3
   },
   "file_extension": ".py",
   "mimetype": "text/x-python",
   "name": "python",
   "nbconvert_exporter": "python",
   "pygments_lexer": "ipython3",
   "version": "3.9.7"
  },
  "orig_nbformat": 4
 },
 "nbformat": 4,
 "nbformat_minor": 2
}
